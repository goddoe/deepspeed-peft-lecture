{
 "cells": [
  {
   "cell_type": "markdown",
   "id": "1792d32e-2ae9-40cf-9515-3dbc375c5917",
   "metadata": {},
   "source": [
    "# Alpaca (KoAlpaca dataset)\n",
    "\n",
    "- Reference\n",
    "  - Origin\n",
    "    - https://huggingface.co/datasets/tatsu-lab/alpaca\n",
    "  - 한국어 번역\n",
    "    - https://huggingface.co/datasets/beomi/KoAlpaca-v1.1a"
   ]
  },
  {
   "cell_type": "code",
   "execution_count": 1,
   "id": "adf7fe01-1996-471e-848d-3f0ac674145c",
   "metadata": {},
   "outputs": [
    {
     "name": "stderr",
     "output_type": "stream",
     "text": [
      "/home/nsml/.conda/envs/peft/lib/python3.11/site-packages/tqdm/auto.py:21: TqdmWarning: IProgress not found. Please update jupyter and ipywidgets. See https://ipywidgets.readthedocs.io/en/stable/user_install.html\n",
      "  from .autonotebook import tqdm as notebook_tqdm\n"
     ]
    }
   ],
   "source": [
    "from datasets import load_dataset"
   ]
  },
  {
   "cell_type": "code",
   "execution_count": null,
   "id": "93f0c04e-9f59-4fb8-92f8-479caa3d9ba8",
   "metadata": {},
   "outputs": [],
   "source": [
    "dataset_koalpaca = load_dataset(\"beomi/KoAlpaca-v1.1a\")"
   ]
  },
  {
   "cell_type": "code",
   "execution_count": 31,
   "id": "422248af-49e9-44f4-927c-14c45e064d26",
   "metadata": {},
   "outputs": [
    {
     "data": {
      "text/plain": [
       "{'instruction': '양파는 어떤 식물 부위인가요? 그리고 고구마는 뿌리인가요?',\n",
       " 'output': '양파는 잎이 아닌 식물의 줄기 부분입니다. 고구마는 식물의 뿌리 부분입니다. \\n\\n식물의 부위의 구분에 대해 궁금해하는 분이라면 분명 이 질문에 대한 답을 찾고 있을 것입니다. 양파는 잎이 아닌 줄기 부분입니다. 고구마는 다른 질문과 답변에서 언급된 것과 같이 뿌리 부분입니다. 따라서, 양파는 식물의 줄기 부분이 되고, 고구마는 식물의 뿌리 부분입니다.\\n\\n 덧붙이는 답변: 고구마 줄기도 볶아먹을 수 있나요? \\n\\n고구마 줄기도 식용으로 볶아먹을 수 있습니다. 하지만 줄기 뿐만 아니라, 잎, 씨, 뿌리까지 모든 부위가 식용으로 활용되기도 합니다. 다만, 한국에서는 일반적으로 뿌리 부분인 고구마를 주로 먹습니다.',\n",
       " 'url': 'https://kin.naver.com/qna/detail.naver?d1id=11&dirId=1116&docId=55320268'}"
      ]
     },
     "execution_count": 31,
     "metadata": {},
     "output_type": "execute_result"
    }
   ],
   "source": [
    "dataset_koalpaca['train'][0]"
   ]
  },
  {
   "cell_type": "code",
   "execution_count": null,
   "id": "f013ded1-7a7a-4ba0-81e1-39943cad2d5e",
   "metadata": {},
   "outputs": [],
   "source": [
    "def proc_for_koalpaca(sample):\n",
    "    sample['text'] = f\"### User\\n{sample['instruction']}\\n\\n### Bot\\n{sample['output']}\"\n",
    "    return sample\n",
    "\n",
    "dataset_koalpaca_cvted = dataset_koalpaca.map(proc_for_koalpaca,\n",
    "                                              remove_columns=dataset_koalpaca['train'].features.keys())"
   ]
  },
  {
   "cell_type": "markdown",
   "id": "5f043bd8-551d-4f5f-875e-7097b6ffa518",
   "metadata": {},
   "source": [
    "# ShareGPT data\n",
    "\n",
    "\n",
    "- Reference\n",
    "  - Origin\n",
    "    - https://sharegpt.com\n",
    "  - 한국어 번역 \n",
    "    - https://huggingface.co/datasets/junelee/sharegpt_deepl_ko"
   ]
  },
  {
   "cell_type": "code",
   "execution_count": 3,
   "id": "6be46e32-d531-4fbe-8953-f78a37e22443",
   "metadata": {},
   "outputs": [
    {
     "name": "stderr",
     "output_type": "stream",
     "text": [
      "Found cached dataset json (/home/nsml/.cache/huggingface/datasets/junelee___json/junelee--sharegpt_deepl_ko-574b0023ff71849a/0.0.0/e347ab1c932092252e717ff3f949105a4dd28b27e842dd53157d2f72e276c2e4)\n",
      "100%|███████████████████████████████████████████████████████████████████████████████████████████████████████████████████████████████████████████████████████████████████████████████████████████████████████████████████████████████████████████████████████| 1/1 [00:00<00:00, 124.00it/s]\n"
     ]
    }
   ],
   "source": [
    "# Reference: https://huggingface.co/datasets/junelee/sharegpt_deepl_ko\n",
    "\n",
    "dataset_sharegpt_origin = load_dataset(\"junelee/sharegpt_deepl_ko\", data_files=\"original_dataset.json\")"
   ]
  },
  {
   "cell_type": "code",
   "execution_count": 4,
   "id": "4bac52ee-92bc-42a1-ad98-b74ac6248de5",
   "metadata": {},
   "outputs": [
    {
     "data": {
      "text/plain": [
       "{'conversations': [{'from': 'human',\n",
       "   'markdown': None,\n",
       "   'text': None,\n",
       "   'value': \"Summarize the main ideas of Jeff Walker's Product Launch Formula into bullet points as it pertains to a growth marketing agency implementing these strategies and tactics for their clients...\"},\n",
       "  {'from': 'gpt',\n",
       "   'markdown': None,\n",
       "   'text': None,\n",
       "   'value': \"Here are the main ideas of Jeff Walker's Product Launch Formula that can be applied by a growth marketing agency for their clients:\\n\\n1. Identify the target audience and their needs: Understand the ideal customer for the product or service, and create a messaging that resonates with them.\\n2. Pre-launch: Build anticipation and excitement for the launch by creating buzz, gathering testimonials and case studies, and using social media to create awareness.\\n3. Launch: Use a well-crafted launch sequence to maximize sales and conversions. This can include offering bonuses, creating scarcity, and using a deadline to create urgency.\\n4. Post-launch: Follow up with customers, gather feedback, and continue to provide value to keep them engaged and loyal.\\n5. Create a product suite: Once the initial product is successful, expand the offering by creating additional products or services that address other needs of the same audience.\\n6. Continual optimization: Continually monitor and optimize the launch process and product suite to improve results.\\n7. Build a community: Use the launch process to build a community of customers who are passionate about the product and can help spread the word.\\n8. Use automation: Use technology and automation to streamline the launch process and improve efficiency.\"},\n",
       "  {'from': 'human',\n",
       "   'markdown': None,\n",
       "   'text': None,\n",
       "   'value': \"Summarize the main ideas of Brendon Burchard's Experts Academy into bullet points as it pertains to a growth marketing agency implementing these strategies and tactics for their clients...\"},\n",
       "  {'from': 'gpt',\n",
       "   'markdown': None,\n",
       "   'text': None,\n",
       "   'value': \"Here are the main ideas of Brendon Burchard's Experts Academy that can be applied by a growth marketing agency for their clients:\\n\\n1. Identify your expertise: Define your area of expertise and create a unique value proposition that differentiates you from others.\\n2. Create a content strategy: Develop a content strategy that showcases your expertise and provides value to your audience. This can include blog posts, videos, podcasts, and social media content.\\n3. Build your audience: Use social media, advertising, and other channels to build your audience and increase your visibility.\\n4. Develop your products: Create products and services that align with your expertise and meet the needs of your audience. These can include digital products, courses, coaching, and consulting services.\\n5. Create a brand: Develop a strong brand that reflects your expertise and resonates with your audience.\\n6. Build authority: Establish yourself as an authority in your industry by speaking at events, publishing a book, or appearing on podcasts or TV shows.\\n7. Monetize your expertise: Develop a monetization strategy that leverages your expertise and products to generate revenue.\\n8. Build a team: As your business grows, build a team of experts to help you scale your business and provide excellent service to your clients.\\n9. Continual improvement: Continually improve your products, services, and marketing strategies to stay ahead of the competition and provide the best possible experience for your clients.\\n10. Focus on impact: Ultimately, focus on making a positive impact in the lives of your clients and using your expertise to make a difference in the world.\"},\n",
       "  {'from': 'human',\n",
       "   'markdown': None,\n",
       "   'text': None,\n",
       "   'value': 'What are the mental triggers in Jeff Walker\\'s Product Launch Formula and \"Launch\" book?'},\n",
       "  {'from': 'gpt',\n",
       "   'markdown': None,\n",
       "   'text': None,\n",
       "   'value': 'Here are the mental triggers described in Jeff Walker\\'s Product Launch Formula and \"Launch\" book:\\n\\n1. Scarcity: Creating a sense of urgency by limiting the availability of the product or service being launched.\\n2. Authority: Establishing oneself as an expert or authority in the industry to build credibility and trust with the audience.\\n3. Social proof: Using testimonials, case studies, and other forms of social proof to demonstrate the effectiveness and value of the product or service.\\n4. Reciprocity: Offering something of value to the audience before asking for a sale or commitment.\\n5. Likeability: Building a personal connection with the audience and creating a likable persona to increase the chances of a sale.\\n6. Anticipation: Building anticipation and excitement leading up to the launch to generate buzz and increase interest in the product or service.\\n7. Exclusivity: Creating a feeling of exclusivity by offering early access or special deals to a select group of people.\\n8. Belonging: Creating a sense of community or belonging among the audience to increase engagement and loyalty to the brand.\\n9. Storytelling: Using storytelling to connect with the audience on an emotional level and make the product or service more relatable and memorable.\\n\\nBy leveraging these mental triggers, businesses can create an effective product launch strategy that resonates with their target audience and drives sales and growth.'},\n",
       "  {'from': 'human',\n",
       "   'markdown': None,\n",
       "   'text': None,\n",
       "   'value': 'Write a summary of why scarcity and urgency are the strongest mental triggers and have been the driving force behind many of our best performing campaigns over the last 8 years.'},\n",
       "  {'from': 'gpt',\n",
       "   'markdown': None,\n",
       "   'text': None,\n",
       "   'value': \"Scarcity and urgency are two of the strongest mental triggers in marketing because they create a sense of exclusivity and importance around a product or service. By creating a sense of limited availability or a deadline for a promotion, businesses can motivate customers to take action and make a purchase before it's too late.\\n\\nOver the last eight years, many businesses have leveraged these triggers in their marketing campaigns to great success. Scarcity and urgency have been used to sell everything from digital products to physical goods and services, and have proven to be highly effective in driving conversions and increasing revenue.\\n\\nThis is because scarcity and urgency tap into the natural human desire for instant gratification and fear of missing out (FOMO). When customers believe that they may miss out on a valuable opportunity if they don't act quickly, they are more likely to take action and make a purchase.\\n\\nFurthermore, scarcity and urgency can be combined with other mental triggers, such as social proof and authority, to create even more powerful marketing campaigns. By demonstrating the popularity and effectiveness of a product or service, businesses can increase the perceived value and urgency of a promotion, leading to even more sales and revenue.\\n\\nOverall, scarcity and urgency are powerful mental triggers that have been proven to drive results in marketing campaigns. By leveraging these triggers, businesses can create a sense of urgency and exclusivity around their products or services, motivating customers to take action and make a purchase before it's too late.\"},\n",
       "  {'from': 'human',\n",
       "   'markdown': None,\n",
       "   'text': None,\n",
       "   'value': \"Summarize Russell Brunson's Perfect Webinar Script...\"},\n",
       "  {'from': 'gpt',\n",
       "   'markdown': None,\n",
       "   'text': None,\n",
       "   'value': \"Russell Brunson's Perfect Webinar Script is a framework for delivering webinars that are designed to sell a product or service. Here are the key components of the Perfect Webinar Script:\\n\\n1. Introduction: The webinar starts with an introduction that establishes the presenter's credibility and establishes the topic.\\n2. Story: The presenter then tells a personal story that is related to the topic and establishes a connection with the audience.\\n3. Content: The presenter provides valuable content related to the topic, demonstrating their expertise and building trust with the audience.\\n4. Offer: The presenter then introduces the product or service they are selling, explaining how it solves the audience's problem and providing social proof to support their claims.\\n5. Bonuses: The presenter offers bonuses to sweeten the deal and make the offer more enticing.\\n6. Scarcity: The presenter creates a sense of urgency by limiting the availability of the offer or including a deadline for purchase.\\n7. FAQs: The presenter answers common questions about the offer, addressing objections and building trust with the audience.\\n8. Closing: The presenter then delivers a clear call to action, directing the audience to take a specific action to purchase the product or service.\\n\\nOverall, the Perfect Webinar Script is designed to build trust with the audience, establish the presenter's credibility, and provide valuable content, while also creating a sense of urgency and scarcity around the offer being presented. By following this framework, businesses can use webinars as a powerful tool to sell their products and services to a targeted audience.\"},\n",
       "  {'from': 'human',\n",
       "   'markdown': None,\n",
       "   'text': None,\n",
       "   'value': 'Summarize the 6 human needs as Tony Robbins explains...'},\n",
       "  {'from': 'gpt',\n",
       "   'markdown': None,\n",
       "   'text': None,\n",
       "   'value': 'Tony Robbins describes six core human needs that drive our behaviors and motivations. These six needs are:\\n\\n1. Certainty: The need for safety, stability, and predictability. This includes the need for comfort, security, and control over our environment.\\n2. Variety: The need for novelty, excitement, and change. This includes the need for adventure, stimulation, and new experiences.\\n3. Significance: The need to feel important, special, and unique. This includes the need for recognition, achievement, and respect.\\n4. Connection: The need for social connection and love. This includes the need for intimacy, belonging, and friendship.\\n5. Growth: The need for personal growth and development. This includes the need for learning, self-improvement, and progress.\\n6. Contribution: The need to make a positive impact in the world. This includes the need to give back, help others, and make a difference.\\n\\nAccording to Tony Robbins, these six needs are universal and apply to all individuals. Each person may prioritize these needs differently, and may fulfill them in different ways, but they are fundamental drivers of human behavior. By understanding these needs, individuals can gain insight into their own motivations and behaviors, and can use this knowledge to create a more fulfilling and meaningful life.'}],\n",
       " 'id': 'QWJhYvA_0'}"
      ]
     },
     "execution_count": 4,
     "metadata": {},
     "output_type": "execute_result"
    }
   ],
   "source": [
    "dataset_sharegpt_origin['train'][0]"
   ]
  },
  {
   "cell_type": "code",
   "execution_count": 5,
   "id": "eae23a41-7245-4448-b09e-1212e8887a7e",
   "metadata": {},
   "outputs": [
    {
     "name": "stderr",
     "output_type": "stream",
     "text": [
      "Found cached dataset json (/home/nsml/.cache/huggingface/datasets/junelee___json/junelee--sharegpt_deepl_ko-b5327e7e790f66af/0.0.0/e347ab1c932092252e717ff3f949105a4dd28b27e842dd53157d2f72e276c2e4)\n",
      "100%|███████████████████████████████████████████████████████████████████████████████████████████████████████████████████████████████████████████████████████████████████████████████████████████████████████████████████████████████████████████████████████| 1/1 [00:00<00:00, 193.32it/s]\n"
     ]
    }
   ],
   "source": [
    "dataset_sharegpt_deepl_ko = load_dataset(\"junelee/sharegpt_deepl_ko\", data_files=\"ko_dataset_2.json\")"
   ]
  },
  {
   "cell_type": "code",
   "execution_count": 6,
   "id": "5c3f382f-f2e8-4fb0-a116-2c5745386347",
   "metadata": {},
   "outputs": [
    {
     "data": {
      "text/plain": [
       "{'conversations': [{'from': 'human',\n",
       "   'markdown': None,\n",
       "   'text': None,\n",
       "   'value': '고객을 위해 이러한 전략과 전술을 구현하는 성장 마케팅 대행사와 관련하여 Jeff Walker의 제품 출시 공식의 주요 아이디어를 글머리 기호로 요약하세요...'},\n",
       "  {'from': 'gpt',\n",
       "   'markdown': None,\n",
       "   'text': None,\n",
       "   'value': '다음은 성장 마케팅 대행사가 고객을 위해 적용할 수 있는 제프 워커의 제품 출시 공식의 주요 아이디어입니다:\\r\\n\\r\\n1. 타겟 고객과 그들의 니즈를 파악합니다: 제품이나 서비스의 이상적인 고객을 파악하고 이들에게 공감을 불러일으킬 수 있는 메시지를 작성합니다.\\r\\n2. 사전 출시: 입소문을 만들고, 사용 후기 및 사례 연구를 수집하고, 소셜 미디어를 사용하여 인지도를 높여 출시에 대한 기대감과 흥미를 조성합니다.\\r\\n3. 출시: 잘 짜여진 출시 시퀀스를 사용하여 판매와 전환을 극대화하세요. 여기에는 보너스 제공, 희소성 창출, 마감일을 사용하여 긴박감을 조성하는 것이 포함될 수 있습니다.\\r\\n4. 출시 후: 고객과 후속 조치를 취하고, 피드백을 수집하고, 지속적으로 가치를 제공하여 고객의 참여와 충성도를 유지하세요.\\r\\n5. 제품군을 만듭니다: 초기 제품이 성공하면 동일한 고객의 다른 요구 사항을 해결하는 추가 제품 또는 서비스를 만들어 제품을 확장합니다.\\r\\n6. 지속적인 최적화: 출시 프로세스와 제품군을 지속적으로 모니터링하고 최적화하여 결과를 개선합니다.\\r\\n7. 커뮤니티 구축: 출시 프로세스를 사용하여 제품에 대한 열정이 있고 널리 알리는 데 도움을 줄 수 있는 고객 커뮤니티를 구축하세요.\\r\\n8. 자동화를 활용하세요: 기술 및 자동화를 사용하여 출시 프로세스를 간소화하고 효율성을 개선하세요.'},\n",
       "  {'from': 'human',\n",
       "   'markdown': None,\n",
       "   'text': None,\n",
       "   'value': '고객을 위해 이러한 전략과 전술을 구현하는 성장 마케팅 대행사와 관련하여 브렌든 버처드의 전문가 아카데미의 주요 아이디어를 글머리 기호로 요약하세요...'},\n",
       "  {'from': 'gpt',\n",
       "   'markdown': None,\n",
       "   'text': None,\n",
       "   'value': '다음은 성장 마케팅 대행사가 고객을 위해 적용할 수 있는 브렌든 버처드 전문가 아카데미의 주요 아이디어입니다:\\r\\n\\r\\n1. 전문성을 파악하라: 자신의 전문 분야를 정의하고 다른 사람과 차별화되는 고유한 가치 제안을 만드세요.\\r\\n2. 콘텐츠 전략 수립: 자신의 전문성을 보여주고 청중에게 가치를 제공할 수 있는 콘텐츠 전략을 개발하세요. 여기에는 블로그 게시물, 동영상, 팟캐스트, 소셜 미디어 콘텐츠가 포함될 수 있습니다.\\r\\n3. 오디언스 구축하기: 소셜 미디어, 광고 및 기타 채널을 사용하여 잠재고객을 확보하고 가시성을 높입니다.\\r\\n4. 제품 개발: 전문 지식에 부합하고 잠재 고객의 요구를 충족하는 제품과 서비스를 만드세요. 여기에는 디지털 제품, 강좌, 코칭 및 컨설팅 서비스가 포함될 수 있습니다.\\r\\n5. 브랜드 만들기: 전문성을 반영하고 청중의 공감을 불러일으킬 수 있는 강력한 브랜드를 개발하세요.\\r\\n6. 권위 구축하기: 이벤트에서 연설하거나 책을 출판하거나 팟캐스트나 TV 프로그램에 출연하여 업계에서 권위자로 자리매김하세요.\\r\\n7. 전문 지식을 수익화하세요: 전문 지식과 제품을 활용하여 수익을 창출하는 수익화 전략을 개발하세요.\\r\\n8. 팀을 구성하세요: 비즈니스가 성장함에 따라 비즈니스를 확장하고 고객에게 우수한 서비스를 제공할 수 있도록 전문가로 구성된 팀을 구성하세요.\\r\\n9. 지속적인 개선: 제품, 서비스, 마케팅 전략을 지속적으로 개선하여 경쟁에서 앞서 나가고 고객에게 최상의 경험을 제공하세요.\\r\\n10. 영향력에 집중하세요: 궁극적으로 고객의 삶에 긍정적인 영향을 미치고 전문성을 활용하여 세상을 변화시키는 데 집중하세요.'},\n",
       "  {'from': 'human',\n",
       "   'markdown': None,\n",
       "   'text': None,\n",
       "   'value': '제프 워커의 제품 출시 공식과 \"출시\" 책에 나오는 정신적 트리거는 무엇인가요?'},\n",
       "  {'from': 'gpt',\n",
       "   'markdown': None,\n",
       "   'text': None,\n",
       "   'value': '다음은 Jeff Walker의 제품 출시 공식과 \"출시\" 책에 설명된 정신적 트리거입니다:\\r\\n\\r\\n1. 희소성: 출시되는 제품이나 서비스의 가용성을 제한하여 긴박감을 조성합니다.\\r\\n2. 권위: 업계에서 전문가 또는 권위자로서의 입지를 구축하여 청중에게 신뢰와 믿음을 구축합니다.\\r\\n3. 사회적 증거: 추천글, 사례 연구 및 기타 형태의 사회적 증거를 사용하여 제품 또는 서비스의 효과와 가치를 입증합니다.\\r\\n4. 상호성: 판매 또는 약정을 요청하기 전에 잠재 고객에게 가치 있는 것을 제공하는 것.\\r\\n5. 호감도: 잠재 고객과 개인적인 관계를 구축하고 호감 가는 페르소나를 만들어 판매 가능성을 높입니다.\\r\\n6. 기대감: 출시에 앞서 기대감과 흥분을 조성하여 입소문을 내고 제품 또는 서비스에 대한 관심을 높입니다.\\r\\n7. 독점성: 특정 그룹에게 조기 액세스 또는 특별 거래를 제공하여 독점적인 느낌을 줍니다.\\r\\n8. 소속감: 브랜드에 대한 참여도와 충성도를 높이기 위해 청중들 사이에 커뮤니티 또는 소속감을 조성합니다.\\r\\n9. 스토리텔링: 스토리텔링을 사용하여 정서적 수준에서 청중과 연결하고 제품 또는 서비스를 더 관련성 있고 기억에 남도록 만듭니다.\\r\\n\\r\\n이러한 정신적 트리거를 활용하여 기업은 타겟 고객의 공감을 불러일으키고 매출과 성장을 촉진하는 효과적인 제품 출시 전략을 수립할 수 있습니다.'},\n",
       "  {'from': 'human',\n",
       "   'markdown': None,\n",
       "   'text': None,\n",
       "   'value': '에서 희소성과 긴급성이 가장 강력한 정신적 유발 요인이며 지난 8년 동안 가장 성과가 좋았던 캠페인의 원동력이었던 이유를 설명합니다. 오니 로빈스는 인간의 행동과 동기를 이끄는 6가지 핵심 욕구에 대해 설명합니다. 이 여섯 가지 욕구는 다음과 같습니다:\\r\\n\\r\\n1. 확실성: 안전, 안정성, 예측 가능성에 대한 욕구. 여기에는 편안함, 보안, 환경에 대한 통제에 대한 욕구가 포함됩니다.\\r\\n2. 다양성: 참신함, 흥분, 변화에 대한 욕구. 여기에는 모험, 자극, 새로운 경험에 대한 욕구가 포함됩니다.\\r\\n3. 중요성: 중요성: 중요하고 특별하며 독특하다고 느끼고자 하는 욕구. 여기에는 인정, 성취, 존경에 대한 욕구가 포함됩니다.\\r\\n4. 연결: 사회적 연결과 사랑에 대한 욕구. 여기에는 친밀감, 소속감, 우정에 대한 욕구가 포함됩니다.\\r\\n5. 성장: 성장: 개인적인 성장과 발전의 욕구. 여기에는 학습, 자기계발, 발전의 욕구가 포함됩니다.\\r\\n6. 기여: 세상에 긍정적인 영향을 미치고 싶은 욕구. 여기에는 환원하고, 다른 사람을 돕고, 변화를 만들고자 하는 욕구가 포함됩니다.\\r\\n\\r\\n토니 로빈스에 따르면 이 여섯 가지 욕구는 보편적인 것으로 모든 개인에게 적용됩니다. 사람마다 이러한 욕구의 우선순위는 다를 수 있고 충족하는 방식도 다를 수 있지만, 이러한 욕구는 인간 행동의 근본적인 동인입니다. 이러한 욕구를 이해함으로써 개인은 자신의 동기와 행동에 대한 통찰력을 얻을 수 있으며, 이러한 지식을 활용하여 보다 만족스럽고 의미 있는 삶을 만들 수 있습니다.'},\n",
       "  {'from': 'gpt',\n",
       "   'markdown': None,\n",
       "   'text': None,\n",
       "   'value': '희소성과 긴박감은 제품이나 서비스에 대한 독점성과 중요도를 만들어 내기 때문에 마케팅에서 가장 강력한 정신적 자극을 주는 두 가지 요소입니다. 한정된 수량이나 프로모션 기한을 설정하여 고객이 너무 늦기 전에 행동을 취하고 구매하도록 동기를 부여할 수 있습니다.\\r\\n\\r\\n지난 8년 동안 많은 기업이 이러한 트리거를 마케팅 캠페인에 활용하여 큰 성공을 거두었습니다. 희소성과 긴급성은 디지털 제품부터 실제 상품과 서비스까지 모든 것을 판매하는 데 사용되어 왔으며, 전환을 유도하고 매출을 높이는 데 매우 효과적이라는 것이 입증되었습니다.\\r\\n\\r\\n희소성과 긴박감은 즉각적인 만족과 놓칠까 봐 두려워하는 인간의 본능적인 욕구(FOMO)를 활용하기 때문입니다. 고객이 빨리 행동하지 않으면 소중한 기회를 놓칠 수 있다고 생각하면 행동을 취하고 구매할 가능성이 높아집니다.\\r\\n\\r\\n또한 희소성과 긴박감은 사회적 증거 및 권위와 같은 다른 정신적 트리거와 결합하여 더욱 강력한 마케팅 캠페인을 만들 수 있습니다. 제품이나 서비스의 인기와 효과를 입증함으로써 기업은 프로모션의 가치와 긴급성을 높여 더 많은 판매와 수익으로 이어질 수 있습니다.\\r\\n\\r\\n전반적으로 희소성과 긴급성은 마케팅 캠페인에서 결과를 이끌어내는 것으로 입증된 강력한 정신적 트리거입니다. 이러한 트리거를 활용하여 기업은 제품이나 서비스에 대한 긴박감과 독점감을 조성하여 고객이 너무 늦기 전에 행동을 취하고 구매하도록 동기를 부여할 수 있습니다.'},\n",
       "  {'from': 'human',\n",
       "   'markdown': None,\n",
       "   'text': None,\n",
       "   'value': '러셀 브런슨의 완벽한 웨비나 스크립트 요약...'},\n",
       "  {'from': 'gpt',\n",
       "   'markdown': None,\n",
       "   'text': None,\n",
       "   'value': '우리를 판매 Brunson의 완벽한 웨비나 스크립트는 제품 또는 서비스를 판매하도록 설계된 웨비나를 제공하기 위한 프레임워크입니다. 완벽한 웨비나 스크립트의 주요 구성 요소는 다음과 같습니다:\\r\\n\\r\\n1. 소개: 웹 세미나는 발표자의 신뢰성을 확립하고 주제를 설정하는 소개로 시작됩니다.\\r\\n2. 스토리: 그런 다음 발표자는 주제와 관련된 개인적인 이야기를 들려주며 청중과의 유대감을 형성합니다.\\r\\n3. 콘텐츠: 발표자는 주제와 관련된 가치 있는 콘텐츠를 제공하여 자신의 전문성을 입증하고 청중과 신뢰를 구축합니다.\\r\\n4. 제안: 발표자는 판매 중인 제품 또는 서비스를 소개하며 청중의 문제를 어떻게 해결하는지 설명하고 자신의 주장을 뒷받침할 수 있는 사회적 증거를 제공합니다.\\r\\n5. 보너스: 발표자는 보너스를 제공하여 거래를 더 달콤하게 만들고 제안을 더욱 매력적으로 만듭니다.\\r\\n6. 희소성: 발표자는 오퍼의 가용성을 제한하거나 구매 기한을 포함하여 긴박감을 조성합니다.\\r\\n7. 자주 묻는 질문: 발표자는 오퍼에 대한 일반적인 질문에 답변하여 이의 제기를 해결하고 청중과의 신뢰를 구축합니다.\\r\\n8. 마무리: 그런 다음 발표자는 명확한 클릭 유도 문안을 전달하여 청중이 제품 또는 서비스를 구매하기 위해 특정 조치를 취하도록 안내합니다.\\r\\n\\r\\n전반적으로 완벽한 웹 세미나 스크립트는 청중과의 신뢰를 구축하고 발표자의 신뢰성을 확립하며 가치 있는 콘텐츠를 제공하는 동시에 제시되는 제안에 대한 긴박감과 희소성을 조성하도록 설계되었습니다. 이 프레임워크를 따르면 기업은 웨비나를 타겟 고객에게 제품과 서비스를 판매하는 강력한 도구로 사용할 수 있습니다.'},\n",
       "  {'from': 'human',\n",
       "   'markdown': None,\n",
       "   'text': None,\n",
       "   'value': '토니 로빈스가 설명하는 인간의 6가지 욕구를 요약해 보세요...'},\n",
       "  {'from': 'gpt',\n",
       "   'markdown': None,\n",
       "   'text': None,\n",
       "   'value': '토니 로빈스는 인간의 행동과 동기를 이끄는 6가지 핵심 욕구를 설명합니다. 이 여섯 가지 욕구는 다음과 같습니다:\\r\\n\\r\\n1. 확실성: 안전, 안정성, 예측 가능성에 대한 욕구. 여기에는 편안함, 보안, 환경에 대한 통제에 대한 욕구가 포함됩니다.\\r\\n2. 다양성: 참신함, 흥분, 변화에 대한 욕구. 여기에는 모험, 자극, 새로운 경험에 대한 욕구가 포함됩니다.\\r\\n3. 중요성: 중요성: 중요하고 특별하며 독특하다고 느끼고자 하는 욕구. 여기에는 인정, 성취, 존경에 대한 욕구가 포함됩니다.\\r\\n4. 연결: 사회적 연결과 사랑에 대한 욕구. 여기에는 친밀감, 소속감, 우정에 대한 욕구가 포함됩니다.\\r\\n5. 성장: 성장: 개인적인 성장과 발전의 욕구. 여기에는 학습, 자기계발, 진보에 대한 욕구가 포함됩니다.\\r\\n6. 기여: 세상에 긍정적인 영향을 미치고 싶은 욕구. 여기에는 환원하고, 다른 사람을 돕고, 변화를 만들고자 하는 욕구가 포함됩니다.\\r\\n\\r\\n토니 로빈스에 따르면 이 여섯 가지 욕구는 보편적인 것으로 모든 개인에게 적용됩니다. 사람마다 이러한 욕구의 우선순위는 다를 수 있고 충족하는 방식도 다를 수 있지만, 이러한 욕구는 인간 행동의 근본적인 동인입니다. 이러한 욕구를 이해함으로써 개인은 자신의 동기와 행동에 대한 통찰력을 얻을 수 있으며, 이러한 지식을 활용하여 보다 만족스럽고 의미 있는 삶을 만들 수 있습니다.'}],\n",
       " 'id': 'QWJhYvA_0'}"
      ]
     },
     "execution_count": 6,
     "metadata": {},
     "output_type": "execute_result"
    }
   ],
   "source": [
    "dataset_sharegpt_deepl_ko['train'][0]"
   ]
  },
  {
   "cell_type": "code",
   "execution_count": 18,
   "id": "50adb0b7-5bec-4aff-943a-436c6db31d78",
   "metadata": {},
   "outputs": [
    {
     "name": "stderr",
     "output_type": "stream",
     "text": [
      "                                                                                                                                                                                                                                                                                           \r"
     ]
    }
   ],
   "source": [
    "# 번역된 ShareGPT 데이터를 대화형으로 CausalLM을 학습시키기 위해 변환\n",
    "\n",
    "def proc_for_sharegpt_deepl_ko(sample):\n",
    "    conv_list = []\n",
    "    for turn in sample['conversations']:\n",
    "        if turn['from'] == 'human':\n",
    "            user_turn = f\"### User\\n{turn['value']}\"\n",
    "            conv_list.append(user_turn)\n",
    "        elif turn['from'] == 'gpt' and len(conv_list) > 0:  # 사람이 먼저 말한 경우만 학습\n",
    "            bot_turn = f\"### Bot\\n{turn['value']}\"\n",
    "            conv_list.append(bot_turn)\n",
    "    sample['text'] = \"\\n\\n\".join(conv_list)\n",
    "    return sample\n",
    "\n",
    "dataset_sharegpt_deepl_ko_cvted = dataset_sharegpt_deepl_ko.map(proc_for_sharegpt_deepl_ko, remove_columns=[\"conversations\", \"id\"])"
   ]
  },
  {
   "cell_type": "markdown",
   "id": "93a88016-d6e0-48c3-9c47-e09983ffc5c6",
   "metadata": {},
   "source": [
    "# Merge Dataset"
   ]
  },
  {
   "cell_type": "code",
   "execution_count": 19,
   "id": "eda1128a-1260-49bc-ac8b-5c222a0e2ea4",
   "metadata": {},
   "outputs": [],
   "source": [
    "from datasets import concatenate_datasets"
   ]
  },
  {
   "cell_type": "code",
   "execution_count": 20,
   "id": "43572316-2474-41a5-8e8d-00ef3e051d18",
   "metadata": {},
   "outputs": [],
   "source": [
    "dataset_merged = concatenate_datasets([dataset_sharegpt_deepl_ko_cvted['train'],\n",
    "                                       dataset_koalpaca_cvted['train']], axis=0)\n",
    "\n",
    "dataset_merged_splitted = dataset_merged.train_test_split(train_size=0.8, shuffle=True, seed=1234)\n",
    "\n",
    "dataset_merged_splitted['valid'] = dataset_merged_splitted[\"test\"]\n",
    "\n",
    "del dataset_merged_splitted[\"test\"]"
   ]
  },
  {
   "cell_type": "code",
   "execution_count": 21,
   "id": "6688dffc-2efc-479c-8b28-4f733d656039",
   "metadata": {},
   "outputs": [
    {
     "name": "stderr",
     "output_type": "stream",
     "text": [
      "                                                                                                                                                                                                                                                                                           \r"
     ]
    }
   ],
   "source": [
    "dataset_merged_splitted.save_to_disk(\"instruction_dataset\")"
   ]
  },
  {
   "cell_type": "code",
   "execution_count": 22,
   "id": "354fa023-7854-4a17-86aa-b40b4f24bed5",
   "metadata": {},
   "outputs": [],
   "source": [
    "from datasets import load_from_disk\n",
    "\n",
    "dataset = load_from_disk(\"instruction_dataset\")"
   ]
  },
  {
   "cell_type": "code",
   "execution_count": 23,
   "id": "015ebdba-3416-4a33-a9ea-ed18d187eeba",
   "metadata": {},
   "outputs": [
    {
     "data": {
      "text/plain": [
       "DatasetDict({\n",
       "    train: Dataset({\n",
       "        features: ['text'],\n",
       "        num_rows: 84456\n",
       "    })\n",
       "    valid: Dataset({\n",
       "        features: ['text'],\n",
       "        num_rows: 21115\n",
       "    })\n",
       "})"
      ]
     },
     "execution_count": 23,
     "metadata": {},
     "output_type": "execute_result"
    }
   ],
   "source": [
    "dataset"
   ]
  },
  {
   "cell_type": "code",
   "execution_count": 30,
   "id": "7d74a8a8-bdd8-4f80-bea0-d87929e38630",
   "metadata": {},
   "outputs": [
    {
     "data": {
      "text/plain": [
       "{'text': '### User\\n3-6에 대해 자세히 설명하고 더 많은 예와 조언을 제공하세요.\\n\\n### Bot\\n1. \"유일무이한\" 또는 소울메이트에 대한 신화를 폭로합니다:\\r\\n* 일생 동안 한 명 이상의 사람과 깊은 관계를 맺을 수 있다는 사실을 인정합니다.\\r\\n* 관계에는 두 파트너 모두의 노력, 헌신, 성장이 필요하다는 것을 이해합니다.\\r\\n* 이상적이고 완벽한 짝을 찾는 대신 파트너와의 공유된 가치, 목표, 열린 소통에 집중하세요.\\r\\n\\r\\n예시 및 조언:\\r\\n\\r\\n* 사람과 환경의 변화에 따라 관계의 변화와 성장에 열린 자세로 임하세요.\\r\\n* 완벽한 사람은 없으며, 관계는 서로를 보완하고 함께 성장하는 것이라는 생각을 받아들입니다.\\r\\n1. 무조건적인 사랑을 신화로 이해합니다:\\r\\n* 모든 관계에는 긍정적인 감정과 부정적인 감정이 섞여 있음을 인식합니다.\\r\\n* 파트너도 자신과 마찬가지로 결점과 불완전함을 가지고 있다는 사실을 인정합니다.\\r\\n* 건강하고 건설적인 방식으로 갈등을 탐색하고 해결하는 방법을 배웁니다.\\r\\n\\r\\n예시 및 조언:\\r\\n\\r\\n* 적극적인 경청과 공감을 포함한 건강한 의사소통 기술을 개발하세요.\\r\\n* 파트너가 실수하거나 실망했을 때 용서하고 이해하는 연습을 하세요.\\r\\n* 사랑은 선택이며 완벽을 기대하기보다는 지속적인 노력이 필요하다는 생각을 받아들입니다.\\r\\n1. 행복보다는 진실성, 깊이, 기쁨, 활기, 연결, 성장에 초점을 맞춥니다:\\r\\n* 관계 안팎에서 삶의 목적과 의미에 대한 감각을 키웁니다.\\r\\n* 기쁨과 만족을 주는 활동과 경험에 참여합니다.\\r\\n* 개인의 성장과 자기 계발에 우선순위를 두고 파트너의 성장을 지원합니다.\\r\\n\\r\\n예시 및 조언:\\r\\n\\r\\n* 개인적으로 또는 부부가 함께 열정을 쏟을 수 있는 취미와 관심사를 추구하세요.\\r\\n* 공동의 목표를 세우고 이를 위해 함께 노력하세요.\\r\\n* 서로의 성취와 성공을 격려하고 축하하세요.\\r\\n1. 날개를 달아주는 기초가 되는 관계를 추구합니다:\\r\\n* 안정과 지원은 물론 탐구하고 성장할 수 있는 자유를 모두 제공하는 파트너를 찾습니다.\\r\\n* 관계 내에서 신뢰감과 안정감을 키우는 동시에 서로의 독립성과 개인적 성장을 장려하세요.\\r\\n\\r\\n예시 및 조언:\\r\\n\\r\\n* 항상 상대방과 관련된 것이 아니더라도 서로의 목표, 꿈, 열망을 지지해 주세요.\\r\\n* 신뢰와 소통의 강력한 기반을 구축하여 두 파트너가 각자의 관심사와 추구하는 바를 탐색하는 데 있어 안정감을 느낄 수 있도록 합니다.\\r\\n* 관계의 건강과 안정과 자유 사이의 균형에 대해 정기적으로 서로 확인하고 필요에 따라 조정하세요.\\n\\n### User\\n5번의 경우, 행복에 집중하는 것과 진실성, 깊이, 기쁨, 생동감, 연결, 성장에 집중하는 것의 차이점은 무엇인가요?\\r\\n\\r\\n3번의 경우, 좀 더 자세히 설명해 주시겠어요? 사랑은 한 사람만을 위한 것이 아니어야 한다는 뜻인가요?\\n\\n### Bot\\n또는 5번처럼, 행복에 집중하는 것과 진실성, 깊이, 기쁨, 생동감, 연결, 성장에 집중하는 것의 차이는 접근 방식과 마음가짐에 있습니다.\\r\\n\\r\\n행복을 일차적인 목표로 삼을 경우, 자신이 행복한지 아닌지를 끊임없이 평가하게 되고 덧없는 감정을 끝없이 추구하게 될 수 있습니다. 이러한 접근 방식은 단기적인 만족감을 가져올 수 있지만, 상황이 완벽하지 않거나 관계에 어려움이 발생했을 때 불만족감을 유발할 수도 있습니다.\\r\\n\\r\\n반면에 진실성, 깊이, 기쁨, 활기, 연결, 성장에 초점을 맞추면 관계의 웰빙과 성취에 대한 총체적이고 장기적인 접근 방식이 촉진됩니다. 이러한 요소는 개인 개발, 강력한 관계 구축, 삶의 목적의식 함양을 강조합니다. 이러한 측면에 노력함으로써 행복은 특정한 최종 목표가 아니라 의미 있고 균형 잡힌 관계의 자연스러운 부산물이 됩니다.\\r\\n\\r\\n3번의 요점은 \\'단 하나뿐인\\' 또는 소울메이트라는 개념이 제한적이고 비현실적일 수 있다는 것입니다. 이는 반드시 낭만적인 의미에서 여러 사람과 사랑을 나누어야 한다는 뜻이 아니라, 평생 동안 한 명 이상의 사람과 깊은 관계를 형성할 수 있다는 이해를 장려합니다. 다시 말해, 모든 필요와 욕구를 충족시켜줄 완벽한 한 사람은 존재하지 않는다는 것입니다.\\r\\n\\r\\n관계는 선택을 하고, 그 선택에 전념하며, 함께 성장하기 위해 노력하는 것임을 인식하는 것이 중요합니다. 이상적인 \\'유일무이한\\' 배우자를 찾는 대신 파트너와의 가치 공유, 열린 소통, 상호 성장에 초점을 맞추는 것이 중요합니다. 이러한 접근 방식은 성공적이고 사랑스러운 관계를 맺을 수 있는 사람이 여러 명 있을 수 있지만, 궁극적으로 그 관계의 성공을 결정하는 것은 여러분의 선택과 노력이라는 점을 인정합니다.\\n\\n### User\\n\"무결성, 깊이, 기쁨, 생동감, 연결, 성장\"이 무엇인지 설명하기 위해 일상 생활에서 그것에 집중하기 위해 어떻게 할 수 있는지 더 많은 예를 들어 보겠습니다.\\n\\n### Bot\\n진실성, 깊이, 기쁨, 생동감, 연결, 성장은 만족스럽고 의미 있는 삶을 위한 필수 요소입니다. 다음은 일상에서 이러한 요소에 집중하는 방법에 대한 몇 가지 예와 실용적인 팁입니다:\\r\\n\\r\\n1. 정직성:\\r\\n\\t* 자신과 타인에게 정직하세요.\\r\\n\\t* 힘들더라도 자신의 가치와 원칙을 고수하세요.\\r\\n\\t* 약속을 지키고 약속을 이행한다.\\r\\n\\t* 개방적이고 투명한 의사소통을 실천합니다.\\r\\n\\t* 자신이 믿는 바를 옹호하기\\r\\n2. 깊이:\\r\\n\\t* 친구, 가족 및 파트너와 깊이 있는 대화를 나눕니다.\\r\\n\\t* 독서, 학습, 자기계발을 통해 지식과 이해를 추구합니다.\\r\\n\\t* 자신의 경험, 감정, 생각에 대해 성찰하기\\r\\n\\t* 감성 지능과 공감 능력 개발\\r\\n\\t* 마음챙김과 명상을 통해 자기 인식을 키웁니다.\\r\\n3. 기쁨:\\r\\n\\t* 행복과 즐거움을 가져다주는 활동에 참여하세요.\\r\\n\\t* 긍정적이고 기운을 북돋아주는 사람들과 함께합니다.\\r\\n\\t* 인생의 좋은 일들에 대해 감사를 표현하세요.\\r\\n\\t* 일상적인 상황에서 유머와 웃음을 찾습니다.\\r\\n\\t* 작은 성공과 이정표를 축하합니다.\\r\\n4. 생동감:\\r\\n\\t* 호기심과 경이로움을 키우기\\r\\n\\t* 새로운 취미와 관심사 탐색\\r\\n\\t* 신체적, 정신적, 정서적으로 자신에게 도전하기\\r\\n\\t* 새로운 장소, 문화, 아이디어를 여행하고 경험한다.\\r\\n\\t* 변화와 성장을 삶의 일부로 받아들인다.\\r\\n5. 연결:\\r\\n\\t* 친구, 가족 및 파트너와 친밀한 관계를 형성합니다.\\r\\n\\t* 다른 사람과 상호작용할 때 집중하고 세심한 주의를 기울인다.\\r\\n\\t* 적극적인 경청과 공감적 소통을 실천합니다.\\r\\n\\t* 주변 사람들에게 지원과 격려를 제공합니다.\\r\\n\\t* 소셜 이벤트에 참여하고 커뮤니티에 참여하기\\r\\n6. 성장:\\r\\n\\t* 개인 및 전문성 개발을 위한 기회를 지속적으로 추구합니다.\\r\\n\\t* 의미 있는 목표를 설정하고 이를 위해 노력한다\\r\\n\\t* 도전을 수용하고 실패로부터 배운다.\\r\\n\\t* 피드백 및 건설적인 비판에 개방적입니다.\\r\\n\\t* 변화와 개선이 가능하다는 것을 인식하고 성장 마인드를 함양합니다.\\r\\n\\r\\n일상 생활에서 이러한 측면에 집중하면 개인의 웰빙과 성취감을 위한 강력한 기반을 구축할 수 있을 뿐만 아니라 다른 사람들과 더 건강하고 만족스러운 관계를 형성할 수 있습니다.'}"
      ]
     },
     "execution_count": 30,
     "metadata": {},
     "output_type": "execute_result"
    }
   ],
   "source": [
    "dataset['train'][6]"
   ]
  },
  {
   "cell_type": "code",
   "execution_count": null,
   "id": "0198555a-bd98-4f7b-bf93-9c72ea549274",
   "metadata": {},
   "outputs": [],
   "source": []
  }
 ],
 "metadata": {
  "kernelspec": {
   "display_name": "Python 3 (ipykernel)",
   "language": "python",
   "name": "python3"
  },
  "language_info": {
   "codemirror_mode": {
    "name": "ipython",
    "version": 3
   },
   "file_extension": ".py",
   "mimetype": "text/x-python",
   "name": "python",
   "nbconvert_exporter": "python",
   "pygments_lexer": "ipython3",
   "version": "3.11.3"
  }
 },
 "nbformat": 4,
 "nbformat_minor": 5
}
