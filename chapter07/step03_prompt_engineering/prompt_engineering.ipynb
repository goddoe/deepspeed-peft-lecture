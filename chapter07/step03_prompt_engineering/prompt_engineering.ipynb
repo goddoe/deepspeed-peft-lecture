{
 "cells": [
  {
   "cell_type": "code",
   "execution_count": 1,
   "id": "297a0197",
   "metadata": {},
   "outputs": [
    {
     "name": "stderr",
     "output_type": "stream",
     "text": [
      "/home/nsml/.conda/envs/fc_peft/lib/python3.11/site-packages/tqdm/auto.py:21: TqdmWarning: IProgress not found. Please update jupyter and ipywidgets. See https://ipywidgets.readthedocs.io/en/stable/user_install.html\n",
      "  from .autonotebook import tqdm as notebook_tqdm\n"
     ]
    },
    {
     "name": "stdout",
     "output_type": "stream",
     "text": [
      "Setting ds_accelerator to cuda (auto detect)\n"
     ]
    }
   ],
   "source": [
    "import torch\n",
    "from transformers import pipeline, AutoModelForCausalLM, AutoTokenizer\n",
    "from peft import PeftModel, PeftConfig"
   ]
  },
  {
   "cell_type": "code",
   "execution_count": 2,
   "id": "92d1773d",
   "metadata": {},
   "outputs": [],
   "source": [
    "model_path = \"./ckpts/my_chatgpt_3.8b/checkpoint-31671\"\n",
    "config = PeftConfig.from_pretrained(model_path)\n",
    "model = AutoModelForCausalLM.from_pretrained(config.base_model_name_or_path)\n",
    "tokenizer = AutoTokenizer.from_pretrained(config.base_model_name_or_path)"
   ]
  },
  {
   "cell_type": "code",
   "execution_count": 3,
   "id": "a7c34df3",
   "metadata": {},
   "outputs": [
    {
     "data": {
      "text/plain": [
       "PeftModelForCausalLM(\n",
       "  (base_model): LoraModel(\n",
       "    (model): GPTNeoXForCausalLM(\n",
       "      (gpt_neox): GPTNeoXModel(\n",
       "        (embed_in): Embedding(30080, 3072)\n",
       "        (layers): ModuleList(\n",
       "          (0-31): 32 x GPTNeoXLayer(\n",
       "            (input_layernorm): LayerNorm((3072,), eps=1e-05, elementwise_affine=True)\n",
       "            (post_attention_layernorm): LayerNorm((3072,), eps=1e-05, elementwise_affine=True)\n",
       "            (attention): GPTNeoXAttention(\n",
       "              (rotary_emb): RotaryEmbedding()\n",
       "              (query_key_value): Linear(\n",
       "                in_features=3072, out_features=9216, bias=True\n",
       "                (lora_dropout): ModuleDict(\n",
       "                  (default): Dropout(p=0.1, inplace=False)\n",
       "                )\n",
       "                (lora_A): ModuleDict(\n",
       "                  (default): Linear(in_features=3072, out_features=4, bias=False)\n",
       "                )\n",
       "                (lora_B): ModuleDict(\n",
       "                  (default): Linear(in_features=4, out_features=9216, bias=False)\n",
       "                )\n",
       "                (lora_embedding_A): ParameterDict()\n",
       "                (lora_embedding_B): ParameterDict()\n",
       "              )\n",
       "              (dense): Linear(in_features=3072, out_features=3072, bias=True)\n",
       "            )\n",
       "            (mlp): GPTNeoXMLP(\n",
       "              (dense_h_to_4h): Linear(in_features=3072, out_features=12288, bias=True)\n",
       "              (dense_4h_to_h): Linear(in_features=12288, out_features=3072, bias=True)\n",
       "              (act): GELUActivation()\n",
       "            )\n",
       "          )\n",
       "        )\n",
       "        (final_layer_norm): LayerNorm((3072,), eps=1e-05, elementwise_affine=True)\n",
       "      )\n",
       "      (embed_out): Linear(in_features=3072, out_features=30080, bias=False)\n",
       "    )\n",
       "  )\n",
       ")"
      ]
     },
     "execution_count": 3,
     "metadata": {},
     "output_type": "execute_result"
    }
   ],
   "source": [
    "inference_model = PeftModel.from_pretrained(model, model_path)\n",
    "inference_model.eval()"
   ]
  },
  {
   "cell_type": "code",
   "execution_count": 4,
   "id": "4c01fa1a",
   "metadata": {},
   "outputs": [
    {
     "name": "stderr",
     "output_type": "stream",
     "text": [
      "The model 'PeftModelForCausalLM' is not supported for text-generation. Supported models are ['BartForCausalLM', 'BertLMHeadModel', 'BertGenerationDecoder', 'BigBirdForCausalLM', 'BigBirdPegasusForCausalLM', 'BioGptForCausalLM', 'BlenderbotForCausalLM', 'BlenderbotSmallForCausalLM', 'BloomForCausalLM', 'CamembertForCausalLM', 'CodeGenForCausalLM', 'CpmAntForCausalLM', 'CTRLLMHeadModel', 'Data2VecTextForCausalLM', 'ElectraForCausalLM', 'ErnieForCausalLM', 'GitForCausalLM', 'GPT2LMHeadModel', 'GPT2LMHeadModel', 'GPTBigCodeForCausalLM', 'GPTNeoForCausalLM', 'GPTNeoXForCausalLM', 'GPTNeoXJapaneseForCausalLM', 'GPTJForCausalLM', 'LlamaForCausalLM', 'MarianForCausalLM', 'MBartForCausalLM', 'MegaForCausalLM', 'MegatronBertForCausalLM', 'MvpForCausalLM', 'OpenLlamaForCausalLM', 'OpenAIGPTLMHeadModel', 'OPTForCausalLM', 'PegasusForCausalLM', 'PLBartForCausalLM', 'ProphetNetForCausalLM', 'QDQBertLMHeadModel', 'ReformerModelWithLMHead', 'RemBertForCausalLM', 'RobertaForCausalLM', 'RobertaPreLayerNormForCausalLM', 'RoCBertForCausalLM', 'RoFormerForCausalLM', 'RwkvForCausalLM', 'Speech2Text2ForCausalLM', 'TransfoXLLMHeadModel', 'TrOCRForCausalLM', 'XGLMForCausalLM', 'XLMWithLMHeadModel', 'XLMProphetNetForCausalLM', 'XLMRobertaForCausalLM', 'XLMRobertaXLForCausalLM', 'XLNetLMHeadModel', 'XmodForCausalLM'].\n"
     ]
    }
   ],
   "source": [
    "pipe = pipeline(\n",
    "    \"text-generation\",\n",
    "    model=inference_model,\n",
    "    tokenizer=tokenizer,\n",
    "    device=0,\n",
    "    torch_dtype=torch.bfloat16\n",
    ")"
   ]
  },
  {
   "cell_type": "code",
   "execution_count": 5,
   "id": "d1098eaf",
   "metadata": {},
   "outputs": [],
   "source": [
    "def build_prompt(user_input):\n",
    "    return f\"### Human\\n{user_input}\\n\\n### Bot\\n\""
   ]
  },
  {
   "cell_type": "code",
   "execution_count": 8,
   "id": "ef04bf32",
   "metadata": {},
   "outputs": [],
   "source": [
    "def ask(text):\n",
    "    result = pipe(build_prompt(text),\n",
    "                   return_full_text=False,\n",
    "                   do_sample=False,\n",
    "                   max_new_tokens=256)\n",
    "    return result[0]['generated_text']"
   ]
  },
  {
   "cell_type": "code",
   "execution_count": 9,
   "id": "5780b2e7",
   "metadata": {},
   "outputs": [
    {
     "name": "stderr",
     "output_type": "stream",
     "text": [
      "Setting `pad_token_id` to `eos_token_id`:2 for open-end generation.\n"
     ]
    },
    {
     "name": "stdout",
     "output_type": "stream",
     "text": [
      "1. 안전: 안전은 인간의 기본 욕구 중 하나로, 안전하지 않은 상황에서는 불안과 스트레스를 느끼게 됩니다. 안전은 건강, 교육, 직업, 재정적 안정 등 다양한 영역에서 중요한 역할을 합니다.2. 소속감: 소속감은 인간의 기본 욕구 중 하나로, 다른 사람들과 함께 있을 때 안정감을 느끼고 자신의 가치와 정체성을 확인할 수 있습니다. 소속감은 가족, 친구, 공동체와 같은 사회적 관계에서 중요한 역할을 합니다.3. 자기표현: 자기표현은 인간의 기본 욕구 중 하나로, 자신의 감정과 생각을 표현하고 다른 사람들과 소통하는 것을 의미합니다. 자기표현은 개인의 정체성, 자존감, 자기 존중감을 형성하는 데 중요한 역할을 합니다.4. 즐거움: 즐거움은 인간의 기본 욕구 중 하나로, 삶의 모든 측면에서 즐거움을 느끼는 것을 의미합니다. 즐거움은 스포츠, 예술, 자연과 문화를 즐기는 것과 같은 다양한 영역에서 중요한 역할을 합니다.5. 의미: 의미는 인간의 기본 욕구 중 하나로, 삶의 목적과 의미를 찾는 것을 의미합니다\n"
     ]
    }
   ],
   "source": [
    "print(ask(\"토니 로빈스가 설명하는 인간의 6가지 욕구를 요약해 보세요...\"))"
   ]
  },
  {
   "cell_type": "markdown",
   "id": "a0f8d360-f950-444a-92f2-b8621ffaf841",
   "metadata": {},
   "source": [
    "# Generation HyperParameter Tuning"
   ]
  },
  {
   "cell_type": "code",
   "execution_count": 21,
   "id": "5da0c0e8-a68d-4d7d-a484-b66b355b0128",
   "metadata": {},
   "outputs": [],
   "source": [
    "def ask(text):\n",
    "    result = pipe(build_prompt(text),\n",
    "                   return_full_text=False,\n",
    "                   do_sample=True,\n",
    "                   top_p=0.3,\n",
    "                   max_new_tokens=128,\n",
    "                   repetition_penalty=1.2)\n",
    "    return result[0]['generated_text'].split(\"\\n\\n\")[0]"
   ]
  },
  {
   "cell_type": "code",
   "execution_count": 13,
   "id": "c17ef884-5338-4892-bc88-c0fecffa2e9c",
   "metadata": {},
   "outputs": [
    {
     "name": "stderr",
     "output_type": "stream",
     "text": [
      "Setting `pad_token_id` to `eos_token_id`:2 for open-end generation.\n"
     ]
    },
    {
     "name": "stdout",
     "output_type": "stream",
     "text": [
      "1. 안전: 안전은 삶에서 가장 중요한 요소 중 하나입니다. 우리 모두는 위험을 피하고, 위협에 대처할 수 있으며, 다른 사람들과 연결되어 있다는 느낌이 필요합니다.2. 자기계발: 자기 계발은 자신에게 투자하여 개인적 성장과 발전을 추구하는 것으로 정의됩니다. 여기에는 독서와 글쓰기 등 다양한 기술 습득 및 개발 활동이 포함될 수 있습니다.3. 관계: 관계는 사랑과 신뢰로 특징지어지며 모든 인간관계의 기초이자 핵심입니다. 우리는 가족이나 친구 또는 직장 동료 사이에서 서로\n"
     ]
    }
   ],
   "source": [
    "print(ask(\"토니 로빈스가 설명하는 인간의 6가지 욕구를 요약해 보세요...\"))"
   ]
  },
  {
   "cell_type": "markdown",
   "id": "94a4f172",
   "metadata": {},
   "source": [
    "# Prompt Engineering"
   ]
  },
  {
   "cell_type": "markdown",
   "id": "f25dca6a",
   "metadata": {},
   "source": [
    "## 프롬프트 엔지니어링 팁\n",
    "- 요구 조건은 쉽고 간결하게\n",
    "- 필요한 요구 조건들을 잘 나열\n",
    "- 구체적으로 명시\n",
    "- N-shot 예제를 함께 주면서"
   ]
  },
  {
   "cell_type": "markdown",
   "id": "24eed5fe",
   "metadata": {},
   "source": [
    "# 광고 문구 생성"
   ]
  },
  {
   "cell_type": "code",
   "execution_count": 14,
   "id": "c2c470fa",
   "metadata": {},
   "outputs": [],
   "source": [
    "sample_1 = \"나이키 신발 광고 문구를 작성해줘\""
   ]
  },
  {
   "cell_type": "code",
   "execution_count": 16,
   "id": "16053c0d",
   "metadata": {},
   "outputs": [
    {
     "name": "stderr",
     "output_type": "stream",
     "text": [
      "Setting `pad_token_id` to `eos_token_id`:2 for open-end generation.\n"
     ]
    },
    {
     "name": "stdout",
     "output_type": "stream",
     "text": [
      "\"당신의 발을 위한 최고의 선택, 나이키 에어 줌 페가수스 83\"\n"
     ]
    }
   ],
   "source": [
    "print(ask(sample_1))"
   ]
  },
  {
   "cell_type": "markdown",
   "id": "997b93a2-3ffb-4a85-82de-f964a765d3b8",
   "metadata": {},
   "source": [
    "### 필요조건 나열, 구체적으로 명시"
   ]
  },
  {
   "cell_type": "code",
   "execution_count": 17,
   "id": "cebd27a6",
   "metadata": {},
   "outputs": [],
   "source": [
    "sample_2 = \"\"\"다음의 요구 사항에 따라 광고 문구를 작성해\n",
    "제품명: 나이키 신발\n",
    "설명: 착화감이 좋고 편안한\n",
    "\"\"\""
   ]
  },
  {
   "cell_type": "code",
   "execution_count": 18,
   "id": "eb25829b",
   "metadata": {},
   "outputs": [
    {
     "name": "stderr",
     "output_type": "stream",
     "text": [
      "Setting `pad_token_id` to `eos_token_id`:2 for open-end generation.\n"
     ]
    },
    {
     "name": "stdout",
     "output_type": "stream",
     "text": [
      "나이키 신발은 발을 감싸는 편안함과 내구성으로 유명합니다. 이 제품은 발의 피로와 불편함을 최소화하기 위해 설계되었습니다. 또한, 이 제품은 뛰어난 통기성을 제공하여 발에서 발생할 수 있는 땀이나 습기가 빠르게 배출됩니다. 이 신발은 일상 생활용 및 운동용 모두 적합합니다.\n"
     ]
    }
   ],
   "source": [
    "print(ask(sample_2))"
   ]
  },
  {
   "cell_type": "code",
   "execution_count": 19,
   "id": "b0cb7234",
   "metadata": {},
   "outputs": [],
   "source": [
    "sample_3 = \"\"\"다음의 요구 사항에 따라 광고 문구를 작성해\n",
    "제품명: 나이키 신발\n",
    "설명: 착화감이 좋고 편안한\n",
    "톤앤매너: 유쾌하고, 발랄하게\n",
    "\"\"\""
   ]
  },
  {
   "cell_type": "code",
   "execution_count": 22,
   "id": "8eb0706b",
   "metadata": {},
   "outputs": [
    {
     "name": "stderr",
     "output_type": "stream",
     "text": [
      "Setting `pad_token_id` to `eos_token_id`:2 for open-end generation.\n"
     ]
    },
    {
     "name": "stdout",
     "output_type": "stream",
     "text": [
      "\"나이키 신발을 신으면 자신감과 에너지가 넘쳐납니다. 이 운동화는 여러분에게 완벽한 스타일을 선사합니다.\"\n"
     ]
    }
   ],
   "source": [
    "print(ask(sample_3))"
   ]
  },
  {
   "cell_type": "code",
   "execution_count": 23,
   "id": "465e1523-8112-431c-ae40-d7a025a1f974",
   "metadata": {},
   "outputs": [],
   "source": [
    "sample = \"\"\"다음의 요구 사항에 따라 광고 문구를 작성해\n",
    "제품명: 겨울 패딩\n",
    "설명: 바람을 잘막아주는, 오래 입는\n",
    "톤앤매너: 참신하게\n",
    "\"\"\""
   ]
  },
  {
   "cell_type": "code",
   "execution_count": 24,
   "id": "ec326116-69b9-49a1-99c3-1eed875818b0",
   "metadata": {},
   "outputs": [
    {
     "name": "stderr",
     "output_type": "stream",
     "text": [
      "Setting `pad_token_id` to `eos_token_id`:2 for open-end generation.\n"
     ]
    },
    {
     "name": "stdout",
     "output_type": "stream",
     "text": [
      "겨울 패딩으로 따뜻하고 편안한 여행을 즐겨보세요. 가볍고 방수성이 뛰어난 이 제품은 여러분이 어디로 가든지 당신과 함께할 것입니다. 바람막이와 방수 기능이 있어 비가 오거나 눈이 내리더라도 걱정 없이 야외 활동을 즐길 수 있습니다. 또한 이 제품은 내구성이 뛰어나서 오랫동안 사용해도 처음처럼 튼튼합니다. 이제 여러분만의 개성 넘치는 스타일을 연출하여 겨울에도 멋지게 보내시길 바랍니다!\n"
     ]
    }
   ],
   "source": [
    "print(ask(sample))"
   ]
  },
  {
   "cell_type": "markdown",
   "id": "406bdb11",
   "metadata": {},
   "source": [
    "## N-shot 예제를 함께 주면서"
   ]
  },
  {
   "cell_type": "code",
   "execution_count": 25,
   "id": "2cf679b7",
   "metadata": {},
   "outputs": [],
   "source": [
    "fewshot = \"\"\"\\\n",
    "### User\n",
    "다음의 요구 사항에 따라 광고 문구를 작성해\n",
    "제품명: 나이키 신발\n",
    "설명: 착화감이 좋고 편안한\n",
    "톤앤매너: 유쾌하고, 발랄하게\n",
    "\n",
    "### Bot\n",
    "- 너무 편안해서 때문에 발이 녹아버릴 것 같아요! 나이키 신발 착화감 짱짱!\n",
    "- 나이키 신발 착화감이 너무 좋고 편안해서 즐거워요 :-)\n",
    "- 신은 것 같지 않은 편안함! 나이키 신발 강추합니다!\n",
    "\n",
    "### User\n",
    "다음의 요구 사항에 따라 광고 문구를 작성해\n",
    "제품명: 겨울 패딩\n",
    "설명: 바람을 잘막아주는, 오래 입는\n",
    "톤앤매너: 참신하게\n",
    "\n",
    "### Bot\n",
    "- 총알같은 바람도 막아내는 겨울패딩\n",
    "- 바람을 잘 막아주고, 오래 읿을 수 있는 나의 겨울 친구 겨울 패딩\n",
    "- 겨울이 왔으면 좋겠어요. 이 겨울 패딩하나면 겨울이 하나도 안무서워요! 저랑 같이 오래입어요\"\"\""
   ]
  },
  {
   "cell_type": "code",
   "execution_count": 26,
   "id": "9c624e3c",
   "metadata": {},
   "outputs": [],
   "source": [
    "def build_prompt(user_input):\n",
    "    return f\"{fewshot}\\n\\n### User\\n{user_input}\\n\\n### Bot\\n\""
   ]
  },
  {
   "cell_type": "code",
   "execution_count": 32,
   "id": "bf90428a-ae0d-4489-a846-e07b485040db",
   "metadata": {},
   "outputs": [],
   "source": [
    "def ask(text):\n",
    "    result = pipe(build_prompt(text),\n",
    "                   return_full_text=False,\n",
    "                   do_sample=True,\n",
    "                   top_p=0.3,\n",
    "                   max_new_tokens=128,\n",
    "                   repetition_penalty=1.3)\n",
    "    return result[0]['generated_text'].split(\"\\n\\n\")[0]"
   ]
  },
  {
   "cell_type": "code",
   "execution_count": 33,
   "id": "05f1335a",
   "metadata": {},
   "outputs": [
    {
     "name": "stderr",
     "output_type": "stream",
     "text": [
      "Setting `pad_token_id` to `eos_token_id`:2 for open-end generation.\n"
     ]
    },
    {
     "name": "stdout",
     "output_type": "stream",
     "text": [
      "- 시원하고 깔끔한 맛으로 유명한 커피 한잔 하실래요?\n",
      "- 얼음 동동 띄운 아메리카노 한 잔이면 하루가 상쾌해져요!\n",
      "- 차가운 음료와 함께라면 더 맛있어지죠! 이제부터 시작입니다.\n"
     ]
    }
   ],
   "source": [
    "sample = \"\"\"다음의 요구 사항에 따라 광고 문구를 작성해\n",
    "제품명: 아이스아메리카노\n",
    "설명: 시지않고, 고소한\n",
    "톤앤매너: 고급스럽게\n",
    "\"\"\"\n",
    "print(ask(sample))"
   ]
  },
  {
   "cell_type": "code",
   "execution_count": null,
   "id": "3764c92e",
   "metadata": {},
   "outputs": [],
   "source": []
  }
 ],
 "metadata": {
  "kernelspec": {
   "display_name": "Python 3 (ipykernel)",
   "language": "python",
   "name": "python3"
  },
  "language_info": {
   "codemirror_mode": {
    "name": "ipython",
    "version": 3
   },
   "file_extension": ".py",
   "mimetype": "text/x-python",
   "name": "python",
   "nbconvert_exporter": "python",
   "pygments_lexer": "ipython3",
   "version": "3.11.3"
  }
 },
 "nbformat": 4,
 "nbformat_minor": 5
}
